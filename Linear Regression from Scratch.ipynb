{
 "cells": [
  {
   "cell_type": "code",
   "execution_count": 23,
   "id": "b282afa6",
   "metadata": {},
   "outputs": [],
   "source": [
    "import numpy as np\n",
    "import pandas as pd\n",
    "import matplotlib.pyplot as plt\n",
    "import matplotlib.axes as ax "
   ]
  },
  {
   "cell_type": "code",
   "execution_count": 24,
   "id": "5de896ec",
   "metadata": {},
   "outputs": [],
   "source": [
    "data = pd.read_csv('tvmarketing.csv')"
   ]
  },
  {
   "cell_type": "code",
   "execution_count": 25,
   "id": "ef886919",
   "metadata": {},
   "outputs": [
    {
     "data": {
      "text/html": [
       "<div>\n",
       "<style scoped>\n",
       "    .dataframe tbody tr th:only-of-type {\n",
       "        vertical-align: middle;\n",
       "    }\n",
       "\n",
       "    .dataframe tbody tr th {\n",
       "        vertical-align: top;\n",
       "    }\n",
       "\n",
       "    .dataframe thead th {\n",
       "        text-align: right;\n",
       "    }\n",
       "</style>\n",
       "<table border=\"1\" class=\"dataframe\">\n",
       "  <thead>\n",
       "    <tr style=\"text-align: right;\">\n",
       "      <th></th>\n",
       "      <th>TV</th>\n",
       "      <th>Sales</th>\n",
       "    </tr>\n",
       "  </thead>\n",
       "  <tbody>\n",
       "    <tr>\n",
       "      <th>0</th>\n",
       "      <td>230.1</td>\n",
       "      <td>22.1</td>\n",
       "    </tr>\n",
       "    <tr>\n",
       "      <th>1</th>\n",
       "      <td>44.5</td>\n",
       "      <td>10.4</td>\n",
       "    </tr>\n",
       "    <tr>\n",
       "      <th>2</th>\n",
       "      <td>17.2</td>\n",
       "      <td>9.3</td>\n",
       "    </tr>\n",
       "    <tr>\n",
       "      <th>3</th>\n",
       "      <td>151.5</td>\n",
       "      <td>18.5</td>\n",
       "    </tr>\n",
       "    <tr>\n",
       "      <th>4</th>\n",
       "      <td>180.8</td>\n",
       "      <td>12.9</td>\n",
       "    </tr>\n",
       "  </tbody>\n",
       "</table>\n",
       "</div>"
      ],
      "text/plain": [
       "      TV  Sales\n",
       "0  230.1   22.1\n",
       "1   44.5   10.4\n",
       "2   17.2    9.3\n",
       "3  151.5   18.5\n",
       "4  180.8   12.9"
      ]
     },
     "execution_count": 25,
     "metadata": {},
     "output_type": "execute_result"
    }
   ],
   "source": [
    "data.head()"
   ]
  },
  {
   "cell_type": "code",
   "execution_count": 26,
   "id": "fe15f977",
   "metadata": {},
   "outputs": [
    {
     "name": "stdout",
     "output_type": "stream",
     "text": [
      "<class 'pandas.core.frame.DataFrame'>\n",
      "RangeIndex: 200 entries, 0 to 199\n",
      "Data columns (total 2 columns):\n",
      " #   Column  Non-Null Count  Dtype  \n",
      "---  ------  --------------  -----  \n",
      " 0   TV      200 non-null    float64\n",
      " 1   Sales   200 non-null    float64\n",
      "dtypes: float64(2)\n",
      "memory usage: 3.3 KB\n"
     ]
    }
   ],
   "source": [
    "data.info()"
   ]
  },
  {
   "cell_type": "code",
   "execution_count": 27,
   "id": "98cec808",
   "metadata": {},
   "outputs": [],
   "source": [
    "train_input = np.array(data.TV[0:140]).reshape(140,1)\n",
    "train_output = np.array(data.TV[0:140]).reshape(140,1)\n",
    "\n",
    "test_input = np.array(data.Sales[140:200]).reshape(60,1)\n",
    "test_output = np.array(data.Sales[140:200]).reshape(60,1)"
   ]
  },
  {
   "cell_type": "code",
   "execution_count": 28,
   "id": "9ba19939",
   "metadata": {},
   "outputs": [
    {
     "data": {
      "text/plain": [
       "(140, 1)"
      ]
     },
     "execution_count": 28,
     "metadata": {},
     "output_type": "execute_result"
    }
   ],
   "source": [
    "train_input.shape"
   ]
  },
  {
   "cell_type": "code",
   "execution_count": 29,
   "id": "e40fa8cf",
   "metadata": {},
   "outputs": [
    {
     "data": {
      "text/plain": [
       "(60, 1)"
      ]
     },
     "execution_count": 29,
     "metadata": {},
     "output_type": "execute_result"
    }
   ],
   "source": [
    "test_input.shape"
   ]
  },
  {
   "cell_type": "code",
   "execution_count": null,
   "id": "e7c415b8",
   "metadata": {},
   "outputs": [],
   "source": []
  },
  {
   "cell_type": "markdown",
   "id": "cb887d56",
   "metadata": {},
   "source": [
    "# Training the data\n",
    "Sequence of steps:\n",
    "Forward Propagation,\n",
    "Cost Function,\n",
    "Backward Propagation,\n",
    "Updating Parameters"
   ]
  },
  {
   "cell_type": "markdown",
   "id": "de46aaa4",
   "metadata": {},
   "source": [
    "# Forward Propagation"
   ]
  },
  {
   "cell_type": "code",
   "execution_count": 32,
   "id": "0c715007",
   "metadata": {},
   "outputs": [],
   "source": [
    "def forward_propagation(parameters, train_input):\n",
    "    m = parameters['m']\n",
    "    c = parameters['c']\n",
    "    \n",
    "    predictions = np.multiply(m, train_input) + c\n",
    "    return predictions"
   ]
  },
  {
   "cell_type": "markdown",
   "id": "7c553566",
   "metadata": {},
   "source": [
    "# Cost Function"
   ]
  },
  {
   "cell_type": "code",
   "execution_count": 33,
   "id": "881fa84d",
   "metadata": {},
   "outputs": [],
   "source": [
    "def cost_function(predictions, train_output):\n",
    "    cost = np.mean((predictions - train_output)**2) * 0.5\n",
    "    return cost"
   ]
  },
  {
   "cell_type": "markdown",
   "id": "287886c1",
   "metadata": {},
   "source": [
    "# Gradient Descent For Back Propagation"
   ]
  },
  {
   "cell_type": "code",
   "execution_count": 35,
   "id": "9e334626",
   "metadata": {},
   "outputs": [],
   "source": [
    "def backward_propagation(train_input, train_output, predictions):\n",
    "    derivatives= dict()\n",
    "    df = predictions - test_output\n",
    "    dm = np.mean(np.multiply(df, train_input))\n",
    "    dc = np.mean(df)\n",
    "    \n",
    "    derivatives['dm'] = dm\n",
    "    derivatives['dc'] = dc\n",
    "    return derivatives"
   ]
  },
  {
   "cell_type": "markdown",
   "id": "bd8f8847",
   "metadata": {},
   "source": [
    "# Update the Parameters"
   ]
  },
  {
   "cell_type": "code",
   "execution_count": null,
   "id": "335c3510",
   "metadata": {},
   "outputs": [],
   "source": [
    "def update_parameters(parameters, derivatives, learning_rate):\n",
    "    parameters['m'] = parameters['m'] -  learning_rate * derivatives['dm']\n",
    "    "
   ]
  }
 ],
 "metadata": {
  "kernelspec": {
   "display_name": "Python 3 (ipykernel)",
   "language": "python",
   "name": "python3"
  },
  "language_info": {
   "codemirror_mode": {
    "name": "ipython",
    "version": 3
   },
   "file_extension": ".py",
   "mimetype": "text/x-python",
   "name": "python",
   "nbconvert_exporter": "python",
   "pygments_lexer": "ipython3",
   "version": "3.11.5"
  }
 },
 "nbformat": 4,
 "nbformat_minor": 5
}
